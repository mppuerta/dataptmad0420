{
 "cells": [
  {
   "cell_type": "markdown",
   "metadata": {},
   "source": [
    "# Web Scraping Lab\n",
    "\n",
    "You will find in this notebook some scrapy exercises to practise your scraping skills.\n",
    "\n",
    "**Tips:**\n",
    "\n",
    "- Check the response status code for each request to ensure you have obtained the intended content.\n",
    "- Print the response text in each request to understand the kind of info you are getting and its format.\n",
    "- Check for patterns in the response text to extract the data/info requested in each question.\n",
    "- Visit the urls below and take a look at their source code through Chrome DevTools. You'll need to identify the html tags, special class names, etc used in the html content you are expected to extract.\n",
    "\n",
    "**Resources**:\n",
    "- [Requests library](http://docs.python-requests.org/en/master/#the-user-guide)\n",
    "- [Beautiful Soup Doc](https://www.crummy.com/software/BeautifulSoup/bs4/doc/)\n",
    "- [Urllib](https://docs.python.org/3/library/urllib.html#module-urllib)\n",
    "- [re lib](https://docs.python.org/3/library/re.html)\n",
    "- [lxml lib](https://lxml.de/)\n",
    "- [Scrapy](https://scrapy.org/)\n",
    "- [List of HTTP status codes](https://en.wikipedia.org/wiki/List_of_HTTP_status_codes)\n",
    "- [HTML basics](http://www.simplehtmlguide.com/cheatsheet.php)\n",
    "- [CSS basics](https://www.cssbasics.com/#page_start)"
   ]
  },
  {
   "cell_type": "markdown",
   "metadata": {},
   "source": [
    "#### Below are the libraries and modules you may need. `requests`,  `BeautifulSoup` and `pandas` are already imported for you. If you prefer to use additional libraries feel free to do it."
   ]
  },
  {
   "cell_type": "code",
   "execution_count": 1,
   "metadata": {},
   "outputs": [],
   "source": [
    "import requests\n",
    "from bs4 import BeautifulSoup\n",
    "import pandas as pd\n",
    "import re"
   ]
  },
  {
   "cell_type": "markdown",
   "metadata": {},
   "source": [
    "#### Download, parse (using BeautifulSoup), and print the content from the Trending Developers page from GitHub:"
   ]
  },
  {
   "cell_type": "code",
   "execution_count": 5,
   "metadata": {},
   "outputs": [],
   "source": [
    "# This is the url you will scrape in this exercise\n",
    "\n",
    "url = 'https://github.com/trending/developers'"
   ]
  },
  {
   "cell_type": "code",
   "execution_count": 6,
   "metadata": {},
   "outputs": [
    {
     "data": {
      "text/plain": [
       "b'\\n\\n\\n\\n\\n<!DOCTYPE html>\\n<html lang=\"en\">\\n  <head>\\n    <meta charset=\"utf-8\">\\n  <link rel=\"dns-prefetch\" href=\"https://github.githubassets.com\">\\n  <link rel=\"dns-prefetch\" href=\"https://avatars0.githubusercontent.com\">\\n  <link rel=\"dns-prefetch\" href=\"https://avatars1.githubusercontent.com\">\\n  <link rel=\"dns-prefetch\" href=\"https://avatars2.githubusercontent.com\">\\n  <link rel=\"dns-prefetch\" href=\"https://avatars3.githubusercontent.com\">\\n  <link rel=\"dns-prefetch\" href=\"https://github-cloud.s3.amazon'"
      ]
     },
     "execution_count": 6,
     "metadata": {},
     "output_type": "execute_result"
    }
   ],
   "source": [
    "# your code here\n",
    "\n",
    "html = requests.get(url).content\n",
    "\n",
    "html[:500]"
   ]
  },
  {
   "cell_type": "markdown",
   "metadata": {},
   "source": [
    "#### Display the names of the trending developers retrieved in the previous step.\n",
    "\n",
    "Your output should be a Python list of developer names. Each name should not contain any html tag.\n",
    "\n",
    "**Instructions:**\n",
    "\n",
    "1. Find out the html tag and class names used for the developer names. You can achieve this using Chrome DevTools.\n",
    "\n",
    "1. Use BeautifulSoup to extract all the html elements that contain the developer names.\n",
    "\n",
    "1. Use string manipulation techniques to replace whitespaces and linebreaks (i.e. `\\n`) in the *text* of each html element. Use a list to store the clean names.\n",
    "\n",
    "1. Print the list of names.\n",
    "\n",
    "Your output should look like below:\n",
    "\n",
    "```\n",
    "['trimstray (@trimstray)',\n",
    " 'joewalnes (JoeWalnes)',\n",
    " 'charlax (Charles-AxelDein)',\n",
    " 'ForrestKnight (ForrestKnight)',\n",
    " 'revery-ui (revery-ui)',\n",
    " 'alibaba (Alibaba)',\n",
    " 'Microsoft (Microsoft)',\n",
    " 'github (GitHub)',\n",
    " 'facebook (Facebook)',\n",
    " 'boazsegev (Bo)',\n",
    " 'google (Google)',\n",
    " 'cloudfetch',\n",
    " 'sindresorhus (SindreSorhus)',\n",
    " 'tensorflow',\n",
    " 'apache (TheApacheSoftwareFoundation)',\n",
    " 'DevonCrawford (DevonCrawford)',\n",
    " 'ARMmbed (ArmMbed)',\n",
    " 'vuejs (vuejs)',\n",
    " 'fastai (fast.ai)',\n",
    " 'QiShaoXuan (Qi)',\n",
    " 'joelparkerhenderson (JoelParkerHenderson)',\n",
    " 'torvalds (LinusTorvalds)',\n",
    " 'CyC2018',\n",
    " 'komeiji-satori (神楽坂覚々)',\n",
    " 'script-8']\n",
    " ```"
   ]
  },
  {
   "cell_type": "code",
   "execution_count": 7,
   "metadata": {},
   "outputs": [
    {
     "data": {
      "text/plain": [
       "['Felix Angelov (felangel)',\n",
       " 'Lorena Mesa (lorenanicole)',\n",
       " 'Rico Sta. Cruz (rstacruz)',\n",
       " 'Henrik Rydgård (hrydgard)',\n",
       " 'Stephan Meijer (smeijer)',\n",
       " 'Bruno Rocha (rochacbruno)',\n",
       " 'Franck Nijhof (frenck)',\n",
       " 'David Tolnay (dtolnay)',\n",
       " 'dylan (dylanaraps)',\n",
       " 'Stefano Gottardo (CastagnaIT)',\n",
       " 'Francois Zaninotto (fzaninotto)',\n",
       " 'David Khourshid (davidkpiano)',\n",
       " 'Takafumi Arakaki (tkf)',\n",
       " 'Ayke (aykevl)',\n",
       " 'Nolan Lawson (nolanlawson)',\n",
       " 'Remi Rousselet (rrousselGit)',\n",
       " 'Jason Miller (developit)',\n",
       " 'Donne Martin (donnemartin)',\n",
       " 'Sebastián Ramírez (tiangolo)',\n",
       " 'Guillaume Gomez (GuillaumeGomez)',\n",
       " 'Arvid Norberg (arvidn)',\n",
       " 'James Yeung (ElderJames)',\n",
       " 'Joel Arvidsson (oblador)',\n",
       " 'Xingyi Zhou (xingyizhou)',\n",
       " 'Timothy Edmund Crosley (timothycrosley)']"
      ]
     },
     "execution_count": 7,
     "metadata": {},
     "output_type": "execute_result"
    }
   ],
   "source": [
    "# your code here\n",
    "\n",
    "soup = BeautifulSoup(html,'lxml')\n",
    "\n",
    "table = soup.find_all(['h1', 'p'], {'class': ['h3', 'f4']})\n",
    "rows_parsed = [row.text for row in table]\n",
    "\n",
    "names_list = [f'{rows_parsed[i].strip()} ({rows_parsed[i+1].strip()})' for i in range(1,len(rows_parsed)-1,2)]\n",
    "\n",
    "names_list"
   ]
  },
  {
   "cell_type": "markdown",
   "metadata": {},
   "source": [
    "#### Display the trending Python repositories in GitHub.\n",
    "\n",
    "The steps to solve this problem is similar to the previous one except that you need to find out the repository names instead of developer names."
   ]
  },
  {
   "cell_type": "code",
   "execution_count": 8,
   "metadata": {},
   "outputs": [],
   "source": [
    "# This is the url you will scrape in this exercise\n",
    "url = 'https://github.com/trending/python?since=daily'"
   ]
  },
  {
   "cell_type": "code",
   "execution_count": 9,
   "metadata": {},
   "outputs": [
    {
     "data": {
      "text/plain": [
       "['TheAlgorithms (Python)',\n",
       " 'JaidedAI (EasyOCR)',\n",
       " 'donnemartin (system-design-primer)',\n",
       " 'alfiopuglisi (guietta)',\n",
       " 'allenai (allennlp)',\n",
       " 'public-apis (public-apis)',\n",
       " 'vinta (awesome-python)',\n",
       " 'mhxion (awesome-discord-communities)',\n",
       " 'ytdl-org (youtube-dl)',\n",
       " 'ankitects (anki)',\n",
       " 'mbadry1 (DeepLearning.ai-Summary)',\n",
       " 'python-discord (summer-code-jam-2020-qualifier)',\n",
       " 'Kr1s77 (awesome-python-login-model)',\n",
       " 'google (skywater-pdk)',\n",
       " 'devanshbatham (FavFreak)',\n",
       " 'iperov (DeepFaceLab)',\n",
       " 'idiap (fast-transformers)',\n",
       " 'zulip (zulip)',\n",
       " 'openai (gym)',\n",
       " 'GauravSingh9356 (J.A.R.V.I.S)',\n",
       " 'facebookresearch (TaBERT)',\n",
       " 'kovidgoyal (calibre)',\n",
       " 'MrS0m30n3 (youtube-dl-gui)',\n",
       " 'Black-Triangle-code (Telegram_coin_bot)',\n",
       " 'giswqs (geemap)']"
      ]
     },
     "execution_count": 9,
     "metadata": {},
     "output_type": "execute_result"
    }
   ],
   "source": [
    "# your code here\n",
    "\n",
    "html = requests.get(url).content\n",
    "soup = BeautifulSoup(html,'lxml')\n",
    "\n",
    "table = soup.find_all(['h1'], {'class': ['h3']})\n",
    "rows_parsed = [row.text for row in table]\n",
    "\n",
    "def format_repos(x):\n",
    "    username = re.sub(\"\\n\",'',x).split('/')[0].strip()\n",
    "    reponame = re.sub(\"\\n\",'',x).split('/')[1].strip()\n",
    "    return f'{username} ({reponame})'\n",
    "\n",
    "\n",
    "repos_list = [format_repos(i) for i in rows_parsed]\n",
    "\n",
    "repos_list"
   ]
  },
  {
   "cell_type": "markdown",
   "metadata": {},
   "source": [
    "#### Display all the image links from Walt Disney wikipedia page."
   ]
  },
  {
   "cell_type": "code",
   "execution_count": 10,
   "metadata": {},
   "outputs": [],
   "source": [
    "# This is the url you will scrape in this exercise\n",
    "url = 'https://en.wikipedia.org/wiki/Walt_Disney'"
   ]
  },
  {
   "cell_type": "code",
   "execution_count": 11,
   "metadata": {},
   "outputs": [
    {
     "data": {
      "text/plain": [
       "['//upload.wikimedia.org/wikipedia/en/thumb/e/e7/Cscr-featured.svg/20px-Cscr-featured.svg.png',\n",
       " '//upload.wikimedia.org/wikipedia/en/thumb/8/8c/Extended-protection-shackle.svg/20px-Extended-protection-shackle.svg.png',\n",
       " '//upload.wikimedia.org/wikipedia/commons/thumb/d/df/Walt_Disney_1946.JPG/220px-Walt_Disney_1946.JPG',\n",
       " '//upload.wikimedia.org/wikipedia/commons/thumb/8/87/Walt_Disney_1942_signature.svg/150px-Walt_Disney_1942_signature.svg.png',\n",
       " '//upload.wikimedia.org/wikipedia/commons/thumb/c/c4/Walt_Disney_envelope_ca._1921.jpg/220px-Walt_Disney_envelope_ca._1921.jpg',\n",
       " '//upload.wikimedia.org/wikipedia/commons/thumb/4/4d/Newman_Laugh-O-Gram_%281921%29.webm/220px-seek%3D2-Newman_Laugh-O-Gram_%281921%29.webm.jpg',\n",
       " '//upload.wikimedia.org/wikipedia/commons/thumb/0/0d/Trolley_Troubles_poster.jpg/170px-Trolley_Troubles_poster.jpg',\n",
       " '//upload.wikimedia.org/wikipedia/commons/thumb/7/71/Walt_Disney_and_his_cartoon_creation_%22Mickey_Mouse%22_-_National_Board_of_Review_Magazine.jpg/170px-Walt_Disney_and_his_cartoon_creation_%22Mickey_Mouse%22_-_National_Board_of_Review_Magazine.jpg',\n",
       " '//upload.wikimedia.org/wikipedia/en/thumb/4/4e/Steamboat-willie.jpg/170px-Steamboat-willie.jpg',\n",
       " '//upload.wikimedia.org/wikipedia/commons/thumb/5/57/Walt_Disney_1935.jpg/170px-Walt_Disney_1935.jpg',\n",
       " '//upload.wikimedia.org/wikipedia/commons/thumb/c/cd/Walt_Disney_Snow_white_1937_trailer_screenshot_%2813%29.jpg/220px-Walt_Disney_Snow_white_1937_trailer_screenshot_%2813%29.jpg',\n",
       " '//upload.wikimedia.org/wikipedia/commons/thumb/1/15/Disney_drawing_goofy.jpg/170px-Disney_drawing_goofy.jpg',\n",
       " '//upload.wikimedia.org/wikipedia/commons/thumb/1/13/DisneySchiphol1951.jpg/220px-DisneySchiphol1951.jpg',\n",
       " '//upload.wikimedia.org/wikipedia/commons/thumb/8/8c/WaltDisneyplansDisneylandDec1954.jpg/220px-WaltDisneyplansDisneylandDec1954.jpg',\n",
       " '//upload.wikimedia.org/wikipedia/commons/thumb/f/ff/Walt_disney_portrait_right.jpg/170px-Walt_disney_portrait_right.jpg',\n",
       " '//upload.wikimedia.org/wikipedia/commons/thumb/1/1a/Walt_Disney_Grave.JPG/170px-Walt_Disney_Grave.JPG',\n",
       " '//upload.wikimedia.org/wikipedia/commons/thumb/2/2d/Roy_O._Disney_with_Company_at_Press_Conference.jpg/170px-Roy_O._Disney_with_Company_at_Press_Conference.jpg',\n",
       " '//upload.wikimedia.org/wikipedia/commons/thumb/a/a9/Disney_Display_Case.JPG/170px-Disney_Display_Case.JPG',\n",
       " '//upload.wikimedia.org/wikipedia/commons/thumb/6/6c/Disney1968.jpg/170px-Disney1968.jpg',\n",
       " '//upload.wikimedia.org/wikipedia/en/thumb/8/8a/OOjs_UI_icon_edit-ltr-progressive.svg/10px-OOjs_UI_icon_edit-ltr-progressive.svg.png',\n",
       " '//upload.wikimedia.org/wikipedia/commons/thumb/4/44/The_Walt_Disney_Company_Logo.svg/120px-The_Walt_Disney_Company_Logo.svg.png',\n",
       " '//upload.wikimedia.org/wikipedia/commons/thumb/d/da/Animation_disc.svg/30px-Animation_disc.svg.png',\n",
       " '//upload.wikimedia.org/wikipedia/en/thumb/6/69/P_vip.svg/29px-P_vip.svg.png',\n",
       " '//upload.wikimedia.org/wikipedia/commons/thumb/1/1a/Magic_Kingdom_castle.jpg/24px-Magic_Kingdom_castle.jpg',\n",
       " '//upload.wikimedia.org/wikipedia/en/thumb/e/e7/Video-x-generic.svg/30px-Video-x-generic.svg.png',\n",
       " '//upload.wikimedia.org/wikipedia/commons/thumb/a/a3/Flag_of_Los_Angeles_County%2C_California.svg/30px-Flag_of_Los_Angeles_County%2C_California.svg.png',\n",
       " '//upload.wikimedia.org/wikipedia/commons/thumb/8/8c/Blank_television_set.svg/30px-Blank_television_set.svg.png',\n",
       " '//upload.wikimedia.org/wikipedia/en/thumb/a/a4/Flag_of_the_United_States.svg/30px-Flag_of_the_United_States.svg.png',\n",
       " '//upload.wikimedia.org/wikipedia/en/thumb/4/4a/Commons-logo.svg/22px-Commons-logo.svg.png',\n",
       " '//upload.wikimedia.org/wikipedia/commons/thumb/f/fa/Wikiquote-logo.svg/25px-Wikiquote-logo.svg.png',\n",
       " '//upload.wikimedia.org/wikipedia/commons/thumb/f/ff/Wikidata-logo.svg/30px-Wikidata-logo.svg.png',\n",
       " '//upload.wikimedia.org/wikipedia/en/thumb/8/8a/OOjs_UI_icon_edit-ltr-progressive.svg/10px-OOjs_UI_icon_edit-ltr-progressive.svg.png',\n",
       " '//en.wikipedia.org/wiki/Special:CentralAutoLogin/start?type=1x1',\n",
       " '/static/images/wikimedia-button.png',\n",
       " '/static/images/poweredby_mediawiki_88x31.png']"
      ]
     },
     "execution_count": 11,
     "metadata": {},
     "output_type": "execute_result"
    }
   ],
   "source": [
    "# your code here\n",
    "\n",
    "html = requests.get(url).content\n",
    "soup = BeautifulSoup(html,'lxml')\n",
    "\n",
    "images = [i.get('src') for i in soup.find_all('img')]\n",
    "\n",
    "images\n"
   ]
  },
  {
   "cell_type": "markdown",
   "metadata": {},
   "source": [
    "#### Retrieve an arbitary Wikipedia page of \"Python\" and create a list of links on that page."
   ]
  },
  {
   "cell_type": "code",
   "execution_count": 16,
   "metadata": {},
   "outputs": [],
   "source": [
    "# This is the url you will scrape in this exercise\n",
    "url ='https://en.wikipedia.org/wiki/Python' "
   ]
  },
  {
   "cell_type": "code",
   "execution_count": 24,
   "metadata": {},
   "outputs": [
    {
     "data": {
      "text/plain": [
       "['https://en.wiktionary.org/wiki/Python',\n",
       " 'https://en.wiktionary.org/wiki/python',\n",
       " 'https://en.wikipedia.org/w/index.php?title=Special:WhatLinksHere/Python&namespace=0',\n",
       " 'https://en.wikipedia.org/w/index.php?title=Python&oldid=963092579',\n",
       " 'https://donate.wikimedia.org/wiki/Special:FundraiserRedirector?utm_source=donate&utm_medium=sidebar&utm_campaign=C13_en.wikipedia.org&uselang=en',\n",
       " 'https://www.wikidata.org/wiki/Special:EntityPage/Q747452',\n",
       " 'https://commons.wikimedia.org/wiki/Category:Python',\n",
       " 'https://af.wikipedia.org/wiki/Python',\n",
       " 'https://als.wikipedia.org/wiki/Python',\n",
       " 'https://ar.wikipedia.org/wiki/%D8%A8%D8%A7%D9%8A%D8%AB%D9%88%D9%86',\n",
       " 'https://az.wikipedia.org/wiki/Python',\n",
       " 'https://bn.wikipedia.org/wiki/%E0%A6%AA%E0%A6%BE%E0%A6%87%E0%A6%A5%E0%A6%A8_(%E0%A6%A6%E0%A7%8D%E0%A6%AC%E0%A7%8D%E0%A6%AF%E0%A6%B0%E0%A7%8D%E0%A6%A5%E0%A6%A4%E0%A6%BE_%E0%A6%A8%E0%A6%BF%E0%A6%B0%E0%A6%B8%E0%A6%A8)',\n",
       " 'https://be.wikipedia.org/wiki/Python',\n",
       " 'https://bg.wikipedia.org/wiki/%D0%9F%D0%B8%D1%82%D0%BE%D0%BD_(%D0%BF%D0%BE%D1%8F%D1%81%D0%BD%D0%B5%D0%BD%D0%B8%D0%B5)',\n",
       " 'https://cs.wikipedia.org/wiki/Python_(rozcestn%C3%ADk)',\n",
       " 'https://da.wikipedia.org/wiki/Python',\n",
       " 'https://de.wikipedia.org/wiki/Python',\n",
       " 'https://eo.wikipedia.org/wiki/Pitono_(apartigilo)',\n",
       " 'https://eu.wikipedia.org/wiki/Python_(argipena)',\n",
       " 'https://fa.wikipedia.org/wiki/%D9%BE%D8%A7%DB%8C%D8%AA%D9%88%D9%86',\n",
       " 'https://fr.wikipedia.org/wiki/Python',\n",
       " 'https://ko.wikipedia.org/wiki/%ED%8C%8C%EC%9D%B4%EC%84%A0',\n",
       " 'https://hr.wikipedia.org/wiki/Python_(razdvojba)',\n",
       " 'https://io.wikipedia.org/wiki/Pitono',\n",
       " 'https://id.wikipedia.org/wiki/Python',\n",
       " 'https://ia.wikipedia.org/wiki/Python_(disambiguation)',\n",
       " 'https://is.wikipedia.org/wiki/Python_(a%C3%B0greining)',\n",
       " 'https://it.wikipedia.org/wiki/Python_(disambigua)',\n",
       " 'https://he.wikipedia.org/wiki/%D7%A4%D7%99%D7%AA%D7%95%D7%9F',\n",
       " 'https://ka.wikipedia.org/wiki/%E1%83%9E%E1%83%98%E1%83%97%E1%83%9D%E1%83%9C%E1%83%98_(%E1%83%9B%E1%83%A0%E1%83%90%E1%83%95%E1%83%90%E1%83%9A%E1%83%9B%E1%83%9C%E1%83%98%E1%83%A8%E1%83%95%E1%83%9C%E1%83%94%E1%83%9A%E1%83%9D%E1%83%95%E1%83%90%E1%83%9C%E1%83%98)',\n",
       " 'https://kg.wikipedia.org/wiki/Mboma_(nyoka)',\n",
       " 'https://la.wikipedia.org/wiki/Python_(discretiva)',\n",
       " 'https://lb.wikipedia.org/wiki/Python',\n",
       " 'https://hu.wikipedia.org/wiki/Python_(egy%C3%A9rtelm%C5%B1s%C3%ADt%C5%91_lap)',\n",
       " 'https://mr.wikipedia.org/wiki/%E0%A4%AA%E0%A4%BE%E0%A4%AF%E0%A4%A5%E0%A5%89%E0%A4%A8_(%E0%A4%86%E0%A4%9C%E0%A5%8D%E0%A4%9E%E0%A4%BE%E0%A4%B5%E0%A4%B2%E0%A5%80_%E0%A4%AD%E0%A4%BE%E0%A4%B7%E0%A4%BE)',\n",
       " 'https://nl.wikipedia.org/wiki/Python',\n",
       " 'https://ja.wikipedia.org/wiki/%E3%83%91%E3%82%A4%E3%82%BD%E3%83%B3',\n",
       " 'https://no.wikipedia.org/wiki/Pyton',\n",
       " 'https://pl.wikipedia.org/wiki/Pyton',\n",
       " 'https://pt.wikipedia.org/wiki/Python_(desambigua%C3%A7%C3%A3o)',\n",
       " 'https://ru.wikipedia.org/wiki/Python_(%D0%B7%D0%BD%D0%B0%D1%87%D0%B5%D0%BD%D0%B8%D1%8F)',\n",
       " 'https://sk.wikipedia.org/wiki/Python',\n",
       " 'https://sr.wikipedia.org/wiki/%D0%9F%D0%B8%D1%82%D0%BE%D0%BD_(%D0%B2%D0%B8%D1%88%D0%B5%D0%B7%D0%BD%D0%B0%D1%87%D0%BD%D0%B0_%D0%BE%D0%B4%D1%80%D0%B5%D0%B4%D0%BD%D0%B8%D1%86%D0%B0)',\n",
       " 'https://sh.wikipedia.org/wiki/Python',\n",
       " 'https://fi.wikipedia.org/wiki/Python',\n",
       " 'https://sv.wikipedia.org/wiki/Pyton',\n",
       " 'https://th.wikipedia.org/wiki/%E0%B9%84%E0%B8%9E%E0%B8%97%E0%B8%AD%E0%B8%99',\n",
       " 'https://tr.wikipedia.org/wiki/Python',\n",
       " 'https://uk.wikipedia.org/wiki/%D0%9F%D1%96%D1%84%D0%BE%D0%BD',\n",
       " 'https://ur.wikipedia.org/wiki/%D9%BE%D8%A7%D8%A6%DB%8C%D8%AA%DA%BE%D9%88%D9%86',\n",
       " 'https://vi.wikipedia.org/wiki/Python',\n",
       " 'https://zh.wikipedia.org/wiki/Python_(%E6%B6%88%E6%AD%A7%E4%B9%89)',\n",
       " 'https://www.wikidata.org/wiki/Special:EntityPage/Q747452#sitelinks-wikipedia',\n",
       " 'https://foundation.wikimedia.org/wiki/Privacy_policy',\n",
       " 'https://www.mediawiki.org/wiki/Special:MyLanguage/How_to_contribute',\n",
       " 'https://stats.wikimedia.org/#/en.wikipedia.org',\n",
       " 'https://foundation.wikimedia.org/wiki/Cookie_statement',\n",
       " 'https://wikimediafoundation.org/',\n",
       " 'https://www.mediawiki.org/']"
      ]
     },
     "execution_count": 24,
     "metadata": {},
     "output_type": "execute_result"
    }
   ],
   "source": [
    "# your code here\n",
    "\n",
    "html = requests.get(url).content\n",
    "soup = BeautifulSoup(html,'lxml')\n",
    "\n",
    "links = [i.get('href') for i in soup.find_all('a') if str(i.get('href')).startswith('http')]\n",
    "\n",
    "links"
   ]
  },
  {
   "cell_type": "markdown",
   "metadata": {},
   "source": [
    "#### Find the number of titles that have changed in the United States Code since its last release point."
   ]
  },
  {
   "cell_type": "code",
   "execution_count": 25,
   "metadata": {},
   "outputs": [],
   "source": [
    "# This is the url you will scrape in this exercise\n",
    "url = 'http://uscode.house.gov/download/download.shtml'"
   ]
  },
  {
   "cell_type": "code",
   "execution_count": 32,
   "metadata": {},
   "outputs": [
    {
     "data": {
      "text/plain": [
       "['Title 5 - Government Organization and Employees ٭',\n",
       " 'Title 8 - Aliens and Nationality',\n",
       " 'Title 10 - Armed Forces ٭',\n",
       " 'Title 16 - Conservation',\n",
       " 'Title 19 - Customs Duties',\n",
       " 'Title 36 - Patriotic and National Observances, Ceremonies, and Organizations ٭',\n",
       " 'Title 50 - War and National Defense']"
      ]
     },
     "execution_count": 32,
     "metadata": {},
     "output_type": "execute_result"
    }
   ],
   "source": [
    "# your code here\n",
    "\n",
    "html = requests.get(url).content\n",
    "soup = BeautifulSoup(html,'lxml')\n",
    "\n",
    "titles_html = soup.find_all('div',{'class':'usctitlechanged'})\n",
    "titles = [re.sub('\\n','',title.text).strip() for title in titles_html]\n",
    "\n",
    "titles"
   ]
  },
  {
   "cell_type": "markdown",
   "metadata": {},
   "source": [
    "#### Find a Python list with the top ten FBI's Most Wanted names."
   ]
  },
  {
   "cell_type": "code",
   "execution_count": 35,
   "metadata": {},
   "outputs": [],
   "source": [
    "# This is the url you will scrape in this exercise\n",
    "url = 'https://www.fbi.gov/wanted/topten'"
   ]
  },
  {
   "cell_type": "code",
   "execution_count": 38,
   "metadata": {},
   "outputs": [
    {
     "data": {
      "text/plain": [
       "['ARNOLDO JIMENEZ',\n",
       " 'JASON DEREK BROWN',\n",
       " 'YASER ABDEL SAID',\n",
       " 'ALEXIS FLORES',\n",
       " 'EUGENE PALMER',\n",
       " 'SANTIAGO VILLALBA MEDEROS',\n",
       " 'RAFAEL CARO-QUINTERO',\n",
       " 'ROBERT WILLIAM FISHER',\n",
       " 'BHADRESHKUMAR CHETANBHAI PATEL',\n",
       " 'ALEJANDRO ROSALES CASTILLO']"
      ]
     },
     "execution_count": 38,
     "metadata": {},
     "output_type": "execute_result"
    }
   ],
   "source": [
    "# your code here\n",
    "\n",
    "html = requests.get(url).content\n",
    "soup = BeautifulSoup(html,'lxml')\n",
    "\n",
    "most_wanted = soup.find_all('li',{'class':'portal-type-person'})\n",
    "most_wanted_names = [re.sub('\\n','',name.text) for name in most_wanted]\n",
    "\n",
    "most_wanted_names"
   ]
  },
  {
   "cell_type": "markdown",
   "metadata": {},
   "source": [
    "#### Display the 20 latest earthquakes info (date, time, latitude, longitude and region name) by the EMSC as a pandas dataframe."
   ]
  },
  {
   "cell_type": "code",
   "execution_count": 2,
   "metadata": {},
   "outputs": [],
   "source": [
    "# This is the url you will scrape in this exercise\n",
    "url = 'https://www.emsc-csem.org/Earthquake/'"
   ]
  },
  {
   "cell_type": "code",
   "execution_count": 11,
   "metadata": {},
   "outputs": [
    {
     "data": {
      "text/plain": [
       "[<tr class=\"ligne1 normal\" id=\"874420\" onclick=\"go_details(event,874420);\"><td class=\"tabev0\"></td><td class=\"tabev0\"></td><td class=\"tabev0\"></td><td class=\"tabev6\"><b><i style=\"display:none;\">earthquake</i><a href=\"/Earthquake/earthquake.php?id=874420\">2020-07-06   16:23:43.9</a></b><i class=\"ago\" id=\"ago0\">10min ago</i></td><td class=\"tabev1\">42.78 </td><td class=\"tabev2\">N  </td><td class=\"tabev1\">12.54 </td><td class=\"tabev2\">E  </td><td class=\"tabev3\">9</td><td class=\"tabev5\" id=\"magtyp0\">ML</td><td class=\"tabev2\">2.0</td><td class=\"tb_region\" id=\"reg0\"> CENTRAL ITALY</td><td class=\"comment updatetimeno\" id=\"upd0\" style=\"text-align:right;\">2020-07-06 16:32</td></tr>,\n",
       " <tr class=\"ligne2 normal\" id=\"874411\" onclick=\"go_details(event,874411);\"><td class=\"tabev0\"></td><td class=\"tabev0\"></td><td class=\"tabev0\"></td><td class=\"tabev6\"><b><i style=\"display:none;\">earthquake</i><a href=\"/Earthquake/earthquake.php?id=874411\">2020-07-06   16:04:14.8</a></b><i class=\"ago\" id=\"ago1\">29min ago</i></td><td class=\"tabev1\">37.74 </td><td class=\"tabev2\">N  </td><td class=\"tabev1\">15.05 </td><td class=\"tabev2\">E  </td><td class=\"tabev3\">5</td><td class=\"tabev5\" id=\"magtyp1\">ML</td><td class=\"tabev2\">2.0</td><td class=\"tb_region\" id=\"reg1\"> SICILY, ITALY</td><td class=\"comment updatetimeno\" id=\"upd1\" style=\"text-align:right;\">2020-07-06 16:11</td></tr>,\n",
       " <tr class=\"ligne1 normal\" id=\"874412\" onclick=\"go_details(event,874412);\"><td class=\"tabev0\"></td><td class=\"tabev0\"></td><td class=\"tabev0\"></td><td class=\"tabev6\"><b><i style=\"display:none;\">earthquake</i><a href=\"/Earthquake/earthquake.php?id=874412\">2020-07-06   16:01:18.4</a></b><i class=\"ago\" id=\"ago2\">32min ago</i></td><td class=\"tabev1\">24.20 </td><td class=\"tabev2\">S  </td><td class=\"tabev1\">179.83 </td><td class=\"tabev2\">E  </td><td class=\"tabev3\">506</td><td class=\"tabev5\" id=\"magtyp2\">mb</td><td class=\"tabev2\">4.8</td><td class=\"tb_region\" id=\"reg2\"> SOUTH OF FIJI ISLANDS</td><td class=\"comment updatetimeno\" id=\"upd2\" style=\"text-align:right;\">2020-07-06 16:24</td></tr>,\n",
       " <tr class=\"ligne2 normal\" id=\"874414\" onclick=\"go_details(event,874414);\"><td class=\"tabev0\"></td><td class=\"tabev0\"></td><td class=\"tabev0\"></td><td class=\"tabev6\"><b><i style=\"display:none;\">earthquake</i><a href=\"/Earthquake/earthquake.php?id=874414\">2020-07-06   15:56:32.8</a></b><i class=\"ago\" id=\"ago3\">37min ago</i></td><td class=\"tabev1\">38.73 </td><td class=\"tabev2\">N  </td><td class=\"tabev1\">27.78 </td><td class=\"tabev2\">E  </td><td class=\"tabev3\">7</td><td class=\"tabev5\" id=\"magtyp3\">ML</td><td class=\"tabev2\">2.1</td><td class=\"tb_region\" id=\"reg3\"> WESTERN TURKEY</td><td class=\"comment updatetimeno\" id=\"upd3\" style=\"text-align:right;\">2020-07-06 16:18</td></tr>,\n",
       " <tr class=\"ligne1 normal\" id=\"874409\" onclick=\"go_details(event,874409);\"><td class=\"tabev0\"></td><td class=\"tabev0\"></td><td class=\"tabev0\"></td><td class=\"tabev6\"><b><i style=\"display:none;\">earthquake</i><a href=\"/Earthquake/earthquake.php?id=874409\">2020-07-06   15:40:23.0</a></b><i class=\"ago\" id=\"ago4\">53min ago</i></td><td class=\"tabev1\">66.27 </td><td class=\"tabev2\">N  </td><td class=\"tabev1\">18.48 </td><td class=\"tabev2\">W  </td><td class=\"tabev3\">6</td><td class=\"tabev5\" id=\"magtyp4\"> M</td><td class=\"tabev2\">3.0</td><td class=\"tb_region\" id=\"reg4\"> ICELAND REGION</td><td class=\"comment updatetimeno\" id=\"upd4\" style=\"text-align:right;\">2020-07-06 15:50</td></tr>,\n",
       " <tr class=\"ligne2 normal\" id=\"874410\" onclick=\"go_details(event,874410);\"><td class=\"tabev0\"></td><td class=\"tabev0\"></td><td class=\"tabev0\"></td><td class=\"tabev6\"><b><i style=\"display:none;\">earthquake</i><a href=\"/Earthquake/earthquake.php?id=874410\">2020-07-06   15:35:18.6</a></b><i class=\"ago\" id=\"ago5\">58min ago</i></td><td class=\"tabev1\">53.14 </td><td class=\"tabev2\">N  </td><td class=\"tabev1\">160.41 </td><td class=\"tabev2\">W  </td><td class=\"tabev3\">10</td><td class=\"tabev5\" id=\"magtyp5\">mb</td><td class=\"tabev2\">4.0</td><td class=\"tb_region\" id=\"reg5\"> SOUTH OF ALASKA</td><td class=\"comment updatetimeno\" id=\"upd5\" style=\"text-align:right;\">2020-07-06 16:00</td></tr>,\n",
       " <tr class=\"ligne1 normal\" id=\"874419\" onclick=\"go_details(event,874419);\"><td class=\"tabev0\"></td><td class=\"tabev0\"></td><td class=\"tabev0\"></td><td class=\"tabev6\"><b><i style=\"display:none;\">earthquake</i><a href=\"/Earthquake/earthquake.php?id=874419\">2020-07-06   15:33:34.5</a></b><i class=\"ago\" id=\"ago6\">1hr 00min ago</i></td><td class=\"tabev1\">17.94 </td><td class=\"tabev2\">N  </td><td class=\"tabev1\">67.08 </td><td class=\"tabev2\">W  </td><td class=\"tabev3\">11</td><td class=\"tabev5\" id=\"magtyp6\">Md</td><td class=\"tabev2\">3.7</td><td class=\"tb_region\" id=\"reg6\"> PUERTO RICO REGION</td><td class=\"comment updatetimeno\" id=\"upd6\" style=\"text-align:right;\">2020-07-06 16:31</td></tr>,\n",
       " <tr class=\"ligne2 normal\" id=\"874403\" onclick=\"go_details(event,874403);\"><td class=\"tabev0\"></td><td class=\"tabev0\"></td><td class=\"tabev0\"></td><td class=\"tabev6\"><b><i style=\"display:none;\">earthquake</i><a href=\"/Earthquake/earthquake.php?id=874403\">2020-07-06   15:30:29.1</a></b><i class=\"ago\" id=\"ago7\">1hr 03min ago</i></td><td class=\"tabev1\">10.97 </td><td class=\"tabev2\">N  </td><td class=\"tabev1\">138.71 </td><td class=\"tabev2\">E  </td><td class=\"tabev3\">10</td><td class=\"tabev5\" id=\"magtyp7\">mb</td><td class=\"tabev2\">5.0</td><td class=\"tb_region\" id=\"reg7\"> STATE OF YAP, MICRONESIA</td><td class=\"comment updatetimeno\" id=\"upd7\" style=\"text-align:right;\">2020-07-06 16:07</td></tr>,\n",
       " <tr class=\"ligne1 normal\" id=\"874404\" onclick=\"go_details(event,874404);\"><td class=\"tabev0\"></td><td class=\"tabev0\"></td><td class=\"tabev0\"></td><td class=\"tabev6\"><b><i style=\"display:none;\">earthquake</i><a href=\"/Earthquake/earthquake.php?id=874404\">2020-07-06   15:30:11.0</a></b><i class=\"ago\" id=\"ago8\">1hr 03min ago</i></td><td class=\"tabev1\">66.28 </td><td class=\"tabev2\">N  </td><td class=\"tabev1\">18.54 </td><td class=\"tabev2\">W  </td><td class=\"tabev3\">12</td><td class=\"tabev5\" id=\"magtyp8\"> M</td><td class=\"tabev2\">3.1</td><td class=\"tb_region\" id=\"reg8\"> ICELAND REGION</td><td class=\"comment updatetimeno\" id=\"upd8\" style=\"text-align:right;\">2020-07-06 15:40</td></tr>,\n",
       " <tr class=\"ligne2 normal\" id=\"874397\" onclick=\"go_details(event,874397);\"><td class=\"tabev0\"></td><td class=\"tabev0\"></td><td class=\"tabev0\"></td><td class=\"tabev6\"><b><i style=\"display:none;\">earthquake</i><a href=\"/Earthquake/earthquake.php?id=874397\">2020-07-06   14:57:35.8</a></b><i class=\"ago\" id=\"ago9\">1hr 36min ago</i></td><td class=\"tabev1\">36.75 </td><td class=\"tabev2\">N  </td><td class=\"tabev1\">6.96 </td><td class=\"tabev2\">W  </td><td class=\"tabev3\">46</td><td class=\"tabev5\" id=\"magtyp9\">ML</td><td class=\"tabev2\">2.0</td><td class=\"tb_region\" id=\"reg9\"> STRAIT OF GIBRALTAR</td><td class=\"comment updatetimeno\" id=\"upd9\" style=\"text-align:right;\">2020-07-06 15:10</td></tr>,\n",
       " <tr class=\"ligne1 normal\" id=\"874398\" onclick=\"go_details(event,874398);\"><td class=\"tabev0\"></td><td class=\"tabev0\"></td><td class=\"tabev0\"></td><td class=\"tabev6\"><b><i style=\"display:none;\">earthquake</i><a href=\"/Earthquake/earthquake.php?id=874398\">2020-07-06   14:55:08.0</a></b><i class=\"ago\" id=\"ago10\">1hr 38min ago</i></td><td class=\"tabev1\">39.64 </td><td class=\"tabev2\">N  </td><td class=\"tabev1\">25.55 </td><td class=\"tabev2\">E  </td><td class=\"tabev3\">8</td><td class=\"tabev5\" id=\"magtyp10\">ML</td><td class=\"tabev2\">2.2</td><td class=\"tb_region\" id=\"reg10\"> AEGEAN SEA</td><td class=\"comment updatetimeno\" id=\"upd10\" style=\"text-align:right;\">2020-07-06 15:12</td></tr>,\n",
       " <tr class=\"ligne2 normal\" id=\"874399\" onclick=\"go_details(event,874399);\"><td class=\"tabev0\"></td><td class=\"tabev0\"></td><td class=\"tabev0\"></td><td class=\"tabev6\"><b><i style=\"display:none;\">earthquake</i><a href=\"/Earthquake/earthquake.php?id=874399\">2020-07-06   14:42:25.2</a></b><i class=\"ago\" id=\"ago11\">1hr 51min ago</i></td><td class=\"tabev1\">38.16 </td><td class=\"tabev2\">N  </td><td class=\"tabev1\">117.86 </td><td class=\"tabev2\">W  </td><td class=\"tabev3\">7</td><td class=\"tabev5\" id=\"magtyp11\">ML</td><td class=\"tabev2\">2.7</td><td class=\"tb_region\" id=\"reg11\"> NEVADA</td><td class=\"comment updatetimeno\" id=\"upd11\" style=\"text-align:right;\">2020-07-06 16:10</td></tr>,\n",
       " <tr class=\"ligne1 normal\" id=\"874393\" onclick=\"go_details(event,874393);\"><td class=\"tabev0\"></td><td class=\"tabev0\"></td><td class=\"tabev0\"></td><td class=\"tabev6\"><b><i style=\"display:none;\">earthquake</i><a href=\"/Earthquake/earthquake.php?id=874393\">2020-07-06   14:24:55.4</a></b><i class=\"ago\" id=\"ago12\">2hr 09min ago</i></td><td class=\"tabev1\">44.12 </td><td class=\"tabev2\">N  </td><td class=\"tabev1\">115.04 </td><td class=\"tabev2\">W  </td><td class=\"tabev3\">10</td><td class=\"tabev5\" id=\"magtyp12\">ML</td><td class=\"tabev2\">2.4</td><td class=\"tb_region\" id=\"reg12\"> SOUTHERN IDAHO</td><td class=\"comment updatetimeno\" id=\"upd12\" style=\"text-align:right;\">2020-07-06 14:59</td></tr>,\n",
       " <tr class=\"ligne2 normal\" id=\"874392\" onclick=\"go_details(event,874392);\"><td class=\"tabev0\"></td><td class=\"tabev0\"></td><td class=\"tabev0\"></td><td class=\"tabev6\"><b><i style=\"display:none;\">earthquake</i><a href=\"/Earthquake/earthquake.php?id=874392\">2020-07-06   14:19:39.5</a></b><i class=\"ago\" id=\"ago13\">2hr 14min ago</i></td><td class=\"tabev1\">20.38 </td><td class=\"tabev2\">S  </td><td class=\"tabev1\">177.67 </td><td class=\"tabev2\">W  </td><td class=\"tabev3\">524</td><td class=\"tabev5\" id=\"magtyp13\">mb</td><td class=\"tabev2\">4.5</td><td class=\"tb_region\" id=\"reg13\"> FIJI REGION</td><td class=\"comment updatetimeno\" id=\"upd13\" style=\"text-align:right;\">2020-07-06 16:06</td></tr>,\n",
       " <tr class=\"ligne1 normal\" id=\"874383\" onclick=\"go_details(event,874383);\"><td class=\"tabev0\"></td><td class=\"tabev0\"></td><td class=\"tabev0\"></td><td class=\"tabev6\"><b><i style=\"display:none;\">earthquake</i><a href=\"/Earthquake/earthquake.php?id=874383\">2020-07-06   13:58:19.1</a></b><i class=\"ago\" id=\"ago14\">2hr 35min ago</i></td><td class=\"tabev1\">19.20 </td><td class=\"tabev2\">N  </td><td class=\"tabev1\">155.44 </td><td class=\"tabev2\">W  </td><td class=\"tabev3\">32</td><td class=\"tabev5\" id=\"magtyp14\">Ml</td><td class=\"tabev2\">2.1</td><td class=\"tb_region\" id=\"reg14\"> ISLAND OF HAWAII, HAWAII</td><td class=\"comment updatetimeno\" id=\"upd14\" style=\"text-align:right;\">2020-07-06 14:03</td></tr>,\n",
       " <tr class=\"ligne2 normal\" id=\"874382\" onclick=\"go_details(event,874382);\"><td class=\"tabev0\"></td><td class=\"tabev0\"></td><td class=\"tabev0\"></td><td class=\"tabev6\"><b><i style=\"display:none;\">earthquake</i><a href=\"/Earthquake/earthquake.php?id=874382\">2020-07-06   13:46:15.2</a></b><i class=\"ago\" id=\"ago15\">2hr 47min ago</i></td><td class=\"tabev1\">38.20 </td><td class=\"tabev2\">N  </td><td class=\"tabev1\">117.88 </td><td class=\"tabev2\">W  </td><td class=\"tabev3\">9</td><td class=\"tabev5\" id=\"magtyp15\">ML</td><td class=\"tabev2\">2.3</td><td class=\"tb_region\" id=\"reg15\"> NEVADA</td><td class=\"comment updatetimeno\" id=\"upd15\" style=\"text-align:right;\">2020-07-06 13:49</td></tr>,\n",
       " <tr class=\"ligne1 normal\" id=\"874380\" onclick=\"go_details(event,874380);\"><td class=\"tabev0\"></td><td class=\"tabev0\"></td><td class=\"tabev0\"></td><td class=\"tabev6\"><b><i style=\"display:none;\">earthquake</i><a href=\"/Earthquake/earthquake.php?id=874380\">2020-07-06   13:41:59.8</a></b><i class=\"ago\" id=\"ago16\">2hr 52min ago</i></td><td class=\"tabev1\">36.45 </td><td class=\"tabev2\">N  </td><td class=\"tabev1\">117.96 </td><td class=\"tabev2\">W  </td><td class=\"tabev3\">3</td><td class=\"tabev5\" id=\"magtyp16\">Ml</td><td class=\"tabev2\">3.0</td><td class=\"tb_region\" id=\"reg16\"> CENTRAL CALIFORNIA</td><td class=\"comment updatetimeno\" id=\"upd16\" style=\"text-align:right;\">2020-07-06 13:44</td></tr>,\n",
       " <tr class=\"ligne2 normal\" id=\"874377\" onclick=\"go_details(event,874377);\"><td class=\"tabev0\"></td><td class=\"tabev0\"></td><td class=\"tabev0\"></td><td class=\"tabev6\"><b><i style=\"display:none;\">earthquake</i><a href=\"/Earthquake/earthquake.php?id=874377\">2020-07-06   13:25:05.8</a></b><i class=\"ago\" id=\"ago17\">3hr 09min ago</i></td><td class=\"tabev1\">36.45 </td><td class=\"tabev2\">N  </td><td class=\"tabev1\">117.99 </td><td class=\"tabev2\">W  </td><td class=\"tabev3\">3</td><td class=\"tabev5\" id=\"magtyp17\">ML</td><td class=\"tabev2\">2.6</td><td class=\"tb_region\" id=\"reg17\"> CENTRAL CALIFORNIA</td><td class=\"comment updatetimeno\" id=\"upd17\" style=\"text-align:right;\">2020-07-06 13:27</td></tr>,\n",
       " <tr class=\"ligne1 normal\" id=\"874381\" onclick=\"go_details(event,874381);\"><td class=\"tabev0\"></td><td class=\"tabev0\"></td><td class=\"tabev0\"></td><td class=\"tabev6\"><b><i style=\"display:none;\">earthquake</i><a href=\"/Earthquake/earthquake.php?id=874381\">2020-07-06   13:03:51.5</a></b><i class=\"ago\" id=\"ago18\">3hr 30min ago</i></td><td class=\"tabev1\">54.60 </td><td class=\"tabev2\">N  </td><td class=\"tabev1\">160.56 </td><td class=\"tabev2\">W  </td><td class=\"tabev3\">11</td><td class=\"tabev5\" id=\"magtyp18\">ML</td><td class=\"tabev2\">3.3</td><td class=\"tb_region\" id=\"reg18\"> ALASKA PENINSULA</td><td class=\"comment updatetimeno\" id=\"upd18\" style=\"text-align:right;\">2020-07-06 13:49</td></tr>,\n",
       " <tr class=\"ligne2 normal\" id=\"874367\" onclick=\"go_details(event,874367);\"><td class=\"tabev0\"></td><td class=\"tabev0\"></td><td class=\"tabev0\"></td><td class=\"tabev6\"><b><i style=\"display:none;\">earthquake</i><a href=\"/Earthquake/earthquake.php?id=874367\">2020-07-06   13:02:16.5</a></b><i class=\"ago\" id=\"ago19\">3hr 31min ago</i></td><td class=\"tabev1\">38.16 </td><td class=\"tabev2\">N  </td><td class=\"tabev1\">117.85 </td><td class=\"tabev2\">W  </td><td class=\"tabev3\">6</td><td class=\"tabev5\" id=\"magtyp19\">ml</td><td class=\"tabev2\">2.0</td><td class=\"tb_region\" id=\"reg19\"> NEVADA</td><td class=\"comment updatetimeno\" id=\"upd19\" style=\"text-align:right;\">2020-07-06 13:11</td></tr>,\n",
       " <tr class=\"ligne1 normal\" id=\"874365\" onclick=\"go_details(event,874365);\"><td class=\"tabev0\"></td><td class=\"tabev0\"></td><td class=\"tabev0\"></td><td class=\"tabev6\"><b><i style=\"display:none;\">earthquake</i><a href=\"/Earthquake/earthquake.php?id=874365\">2020-07-06   13:00:11.9</a></b><i class=\"ago\" id=\"ago20\">3hr 33min ago</i></td><td class=\"tabev1\">19.25 </td><td class=\"tabev2\">N  </td><td class=\"tabev1\">155.40 </td><td class=\"tabev2\">W  </td><td class=\"tabev3\">31</td><td class=\"tabev5\" id=\"magtyp20\">Md</td><td class=\"tabev2\">2.2</td><td class=\"tb_region\" id=\"reg20\"> ISLAND OF HAWAII, HAWAII</td><td class=\"comment updatetimeno\" id=\"upd20\" style=\"text-align:right;\">2020-07-06 13:03</td></tr>,\n",
       " <tr class=\"ligne2 normal\" id=\"874357\" onclick=\"go_details(event,874357);\"><td class=\"tabev0\"></td><td class=\"tabev0\"></td><td class=\"tabev0\"></td><td class=\"tabev6\"><b><i style=\"display:none;\">earthquake</i><a href=\"/Earthquake/earthquake.php?id=874357\">2020-07-06   13:00:02.3</a></b><i class=\"ago\" id=\"ago21\">3hr 34min ago</i></td><td class=\"tabev1\">36.45 </td><td class=\"tabev2\">N  </td><td class=\"tabev1\">117.96 </td><td class=\"tabev2\">W  </td><td class=\"tabev3\">6</td><td class=\"tabev5\" id=\"magtyp21\">Ml</td><td class=\"tabev2\">2.2</td><td class=\"tb_region\" id=\"reg21\"> CENTRAL CALIFORNIA</td><td class=\"comment updatetimeno\" id=\"upd21\" style=\"text-align:right;\">2020-07-06 13:03</td></tr>,\n",
       " <tr class=\"ligne2 normal\" id=\"874388\" onclick=\"go_details(event,874388);\"><td class=\"tabev0\"></td><td class=\"tabev0\"></td><td class=\"tabev0\"></td><td class=\"tabev6\"><b><i style=\"display:none;\">earthquake</i><a href=\"/Earthquake/earthquake.php?id=874388\">2020-07-06   12:46:30.0</a></b><i class=\"ago\" id=\"ago23\">3hr 47min ago</i></td><td class=\"tabev1\">8.36 </td><td class=\"tabev2\">N  </td><td class=\"tabev1\">83.00 </td><td class=\"tabev2\">W  </td><td class=\"tabev3\">24</td><td class=\"tabev5\" id=\"magtyp23\"> M</td><td class=\"tabev2\">3.1</td><td class=\"tb_region\" id=\"reg23\"> COSTA RICA</td><td class=\"comment updatetimeno\" id=\"upd23\" style=\"text-align:right;\">2020-07-06 14:15</td></tr>,\n",
       " <tr class=\"ligne1 normal\" id=\"874390\" onclick=\"go_details(event,874390);\"><td class=\"tabev0\"></td><td class=\"tabev0\"></td><td class=\"tabev0\"></td><td class=\"tabev6\"><b><i style=\"display:none;\">earthquake</i><a href=\"/Earthquake/earthquake.php?id=874390\">2020-07-06   12:44:33.2</a></b><i class=\"ago\" id=\"ago24\">3hr 49min ago</i></td><td class=\"tabev1\">44.53 </td><td class=\"tabev2\">N  </td><td class=\"tabev1\">115.24 </td><td class=\"tabev2\">W  </td><td class=\"tabev3\">10</td><td class=\"tabev5\" id=\"magtyp24\">Ml</td><td class=\"tabev2\">3.0</td><td class=\"tb_region\" id=\"reg24\"> SOUTHERN IDAHO</td><td class=\"comment updatetimeno\" id=\"upd24\" style=\"text-align:right;\">2020-07-06 14:24</td></tr>,\n",
       " <tr class=\"ligne2 normal\" id=\"874351\" onclick=\"go_details(event,874351);\"><td class=\"tabev0\"></td><td class=\"tabev0\"></td><td class=\"tabev0\"></td><td class=\"tabev6\"><b><i style=\"display:none;\">earthquake</i><a href=\"/Earthquake/earthquake.php?id=874351\">2020-07-06   12:32:46.1</a></b><i class=\"ago\" id=\"ago25\">4hr 01min ago</i></td><td class=\"tabev1\">41.20 </td><td class=\"tabev2\">N  </td><td class=\"tabev1\">20.16 </td><td class=\"tabev2\">E  </td><td class=\"tabev3\">7</td><td class=\"tabev5\" id=\"magtyp25\">ML</td><td class=\"tabev2\">2.0</td><td class=\"tb_region\" id=\"reg25\"> ALBANIA</td><td class=\"comment updatetimeno\" id=\"upd25\" style=\"text-align:right;\">2020-07-06 12:41</td></tr>,\n",
       " <tr class=\"ligne1 normal\" id=\"874379\" onclick=\"go_details(event,874379);\"><td class=\"tabev0\"></td><td class=\"tabev0\"></td><td class=\"tabev0\"></td><td class=\"tabev6\"><b><i style=\"display:none;\">earthquake</i><a href=\"/Earthquake/earthquake.php?id=874379\">2020-07-06   12:28:12.3</a></b><i class=\"ago\" id=\"ago26\">4hr 05min ago</i></td><td class=\"tabev1\">43.61 </td><td class=\"tabev2\">N  </td><td class=\"tabev1\">129.93 </td><td class=\"tabev2\">W  </td><td class=\"tabev3\">10</td><td class=\"tabev5\" id=\"magtyp26\">mb</td><td class=\"tabev2\">3.9</td><td class=\"tb_region\" id=\"reg26\"> OFF COAST OF OREGON</td><td class=\"comment updatetimeno\" id=\"upd26\" style=\"text-align:right;\">2020-07-06 13:32</td></tr>,\n",
       " <tr class=\"ligne2 normal\" id=\"874376\" onclick=\"go_details(event,874376);\"><td class=\"tabev0\"></td><td class=\"tabev0\"></td><td class=\"tabev0\"><span class=\"intensity\" onclick=\"go_details(event,null,'https://www.emsc-csem.org/Earthquake/popup_intensmap.php?id=874376&amp;f=/FELTREPORTS/87/874376/IntensityMap.png');\" onmouseout=\"info_b2('notshow','');\" onmouseover=\"info_b2('show','See the &lt;b&gt; Intensity map&lt;/b&gt;');\" style=\"background-color:#FFFFFF;\">F</span></td><td class=\"tabev6\"><b><i style=\"display:none;\">earthquake</i><a href=\"/Earthquake/earthquake.php?id=874376\">2020-07-06   11:50:17.2</a></b><i class=\"ago\" id=\"ago27\">4hr 43min ago</i></td><td class=\"tabev1\">51.79 </td><td class=\"tabev2\">N  </td><td class=\"tabev1\">104.46 </td><td class=\"tabev2\">E  </td><td class=\"tabev3\">10</td><td class=\"tabev5\" id=\"magtyp27\">mb</td><td class=\"tabev2\">4.3</td><td class=\"tb_region\" id=\"reg27\"> LAKE BAYKAL REGION, RUSSIA</td><td class=\"comment updatetimeno\" id=\"upd27\" style=\"text-align:right;\">2020-07-06 13:24</td></tr>,\n",
       " <tr class=\"ligne1 normal\" id=\"874348\" onclick=\"go_details(event,874348);\"><td class=\"tabev0\"></td><td class=\"tabev0\"></td><td class=\"tabev0\"></td><td class=\"tabev6\"><b><i style=\"display:none;\">earthquake</i><a href=\"/Earthquake/earthquake.php?id=874348\">2020-07-06   11:41:31.0</a></b><i class=\"ago\" id=\"ago28\">4hr 52min ago</i></td><td class=\"tabev1\">17.88 </td><td class=\"tabev2\">N  </td><td class=\"tabev1\">66.91 </td><td class=\"tabev2\">W  </td><td class=\"tabev3\">10</td><td class=\"tabev5\" id=\"magtyp28\">ML</td><td class=\"tabev2\">2.8</td><td class=\"tb_region\" id=\"reg28\"> PUERTO RICO REGION</td><td class=\"comment updatetimeno\" id=\"upd28\" style=\"text-align:right;\">2020-07-06 12:05</td></tr>,\n",
       " <tr class=\"ligne2 normal\" id=\"874345\" onclick=\"go_details(event,874345);\"><td class=\"tabev0\"></td><td class=\"tabev0\"></td><td class=\"tabev0\"></td><td class=\"tabev6\"><b><i style=\"display:none;\">earthquake</i><a href=\"/Earthquake/earthquake.php?id=874345\">2020-07-06   11:38:32.3</a></b><i class=\"ago\" id=\"ago29\">4hr 55min ago</i></td><td class=\"tabev1\">19.24 </td><td class=\"tabev2\">N  </td><td class=\"tabev1\">155.49 </td><td class=\"tabev2\">W  </td><td class=\"tabev3\">35</td><td class=\"tabev5\" id=\"magtyp29\">ML</td><td class=\"tabev2\">2.5</td><td class=\"tb_region\" id=\"reg29\"> ISLAND OF HAWAII, HAWAII</td><td class=\"comment updatetimeno\" id=\"upd29\" style=\"text-align:right;\">2020-07-06 12:29</td></tr>,\n",
       " <tr class=\"ligne1 normal\" id=\"874346\" onclick=\"go_details(event,874346);\"><td class=\"tabev0\"></td><td class=\"tabev0\"></td><td class=\"tabev0\"></td><td class=\"tabev6\"><b><i style=\"display:none;\">earthquake</i><a href=\"/Earthquake/earthquake.php?id=874346\">2020-07-06   11:38:00.0</a></b><i class=\"ago\" id=\"ago30\">4hr 56min ago</i></td><td class=\"tabev1\">6.85 </td><td class=\"tabev2\">N  </td><td class=\"tabev1\">73.00 </td><td class=\"tabev2\">W  </td><td class=\"tabev3\">166</td><td class=\"tabev5\" id=\"magtyp30\"> M</td><td class=\"tabev2\">3.8</td><td class=\"tb_region\" id=\"reg30\"> NORTHERN COLOMBIA</td><td class=\"comment updatetimeno\" id=\"upd30\" style=\"text-align:right;\">2020-07-06 11:45</td></tr>,\n",
       " <tr class=\"ligne2 normal\" id=\"874375\" onclick=\"go_details(event,874375);\"><td class=\"tabev0\"></td><td class=\"tabev0\"></td><td class=\"tabev0\"></td><td class=\"tabev6\"><b><i style=\"display:none;\">earthquake</i><a href=\"/Earthquake/earthquake.php?id=874375\">2020-07-06   11:32:24.9</a></b><i class=\"ago\" id=\"ago31\">5hr 01min ago</i></td><td class=\"tabev1\">61.46 </td><td class=\"tabev2\">N  </td><td class=\"tabev1\">146.39 </td><td class=\"tabev2\">W  </td><td class=\"tabev3\">28</td><td class=\"tabev5\" id=\"magtyp31\">ML</td><td class=\"tabev2\">2.6</td><td class=\"tb_region\" id=\"reg31\"> SOUTHERN ALASKA</td><td class=\"comment updatetimeno\" id=\"upd31\" style=\"text-align:right;\">2020-07-06 13:18</td></tr>,\n",
       " <tr class=\"ligne1 normal\" id=\"874342\" onclick=\"go_details(event,874342);\"><td class=\"tabev0\"></td><td class=\"tabev0\"></td><td class=\"tabev0\"></td><td class=\"tabev6\"><b><i style=\"display:none;\">earthquake</i><a href=\"/Earthquake/earthquake.php?id=874342\">2020-07-06   11:21:37.9</a></b><i class=\"ago\" id=\"ago32\">5hr 12min ago</i></td><td class=\"tabev1\">19.21 </td><td class=\"tabev2\">N  </td><td class=\"tabev1\">155.39 </td><td class=\"tabev2\">W  </td><td class=\"tabev3\">32</td><td class=\"tabev5\" id=\"magtyp32\">Md</td><td class=\"tabev2\">2.1</td><td class=\"tb_region\" id=\"reg32\"> ISLAND OF HAWAII, HAWAII</td><td class=\"comment updatetimeno\" id=\"upd32\" style=\"text-align:right;\">2020-07-06 11:24</td></tr>,\n",
       " <tr class=\"ligne2 normal\" id=\"874416\" onclick=\"go_details(event,874416);\"><td class=\"tabev0\"></td><td class=\"tabev0\"></td><td class=\"tabev0\"></td><td class=\"tabev6\"><b><i style=\"display:none;\">earthquake</i><a href=\"/Earthquake/earthquake.php?id=874416\">2020-07-06   11:18:05.0</a></b><i class=\"ago\" id=\"ago33\">5hr 16min ago</i></td><td class=\"tabev1\">20.09 </td><td class=\"tabev2\">N  </td><td class=\"tabev1\">70.94 </td><td class=\"tabev2\">W  </td><td class=\"tabev3\">26</td><td class=\"tabev5\" id=\"magtyp33\"> M</td><td class=\"tabev2\">2.8</td><td class=\"tb_region\" id=\"reg33\"> DOMINICAN REPUBLIC REGION</td><td class=\"comment updatetimeno\" id=\"upd33\" style=\"text-align:right;\">2020-07-06 16:26</td></tr>,\n",
       " <tr class=\"ligne1 normal\" id=\"874344\" onclick=\"go_details(event,874344);\"><td class=\"tabev0\"></td><td class=\"tabev0\"></td><td class=\"tabev0\"></td><td class=\"tabev6\"><b><i style=\"display:none;\">earthquake</i><a href=\"/Earthquake/earthquake.php?id=874344\">2020-07-06   11:17:55.1</a></b><i class=\"ago\" id=\"ago34\">5hr 16min ago</i></td><td class=\"tabev1\">1.48 </td><td class=\"tabev2\">N  </td><td class=\"tabev1\">126.65 </td><td class=\"tabev2\">E  </td><td class=\"tabev3\">10</td><td class=\"tabev5\" id=\"magtyp34\">mb</td><td class=\"tabev2\">4.9</td><td class=\"tb_region\" id=\"reg34\"> MOLUCCA SEA</td><td class=\"comment updatetimeno\" id=\"upd34\" style=\"text-align:right;\">2020-07-06 14:11</td></tr>,\n",
       " <tr class=\"ligne2 normal\" id=\"874338\" onclick=\"go_details(event,874338);\"><td class=\"tabev0\"></td><td class=\"tabev0\"></td><td class=\"tabev0\"></td><td class=\"tabev6\"><b><i style=\"display:none;\">earthquake</i><a href=\"/Earthquake/earthquake.php?id=874338\">2020-07-06   10:33:11.0</a></b><i class=\"ago\" id=\"ago35\">6hr 00min ago</i></td><td class=\"tabev1\">6.92 </td><td class=\"tabev2\">S  </td><td class=\"tabev1\">105.78 </td><td class=\"tabev2\">E  </td><td class=\"tabev3\">162</td><td class=\"tabev5\" id=\"magtyp35\"> M</td><td class=\"tabev2\">3.9</td><td class=\"tb_region\" id=\"reg35\"> SUNDA STRAIT, INDONESIA</td><td class=\"comment updatetimeno\" id=\"upd35\" style=\"text-align:right;\">2020-07-06 10:50</td></tr>,\n",
       " <tr class=\"ligne1 normal\" id=\"874337\" onclick=\"go_details(event,874337);\"><td class=\"tabev0\"></td><td class=\"tabev0\"></td><td class=\"tabev0\"><span class=\"intensity\" onclick=\"go_details(event,null,'https://www.emsc-csem.org/Earthquake/popup_intensmap.php?id=874337&amp;f=/FELTREPORTS/87/874337/IntensityMap.png');\" onmouseout=\"info_b2('notshow','');\" onmouseover=\"info_b2('show','See the &lt;b&gt; Intensity map&lt;/b&gt;');\" style=\"background-color:#FFFFFF;\">F</span></td><td class=\"tabev6\"><b><i style=\"display:none;\">earthquake</i><a href=\"/Earthquake/earthquake.php?id=874337\">2020-07-06   10:22:18.3</a></b><i class=\"ago\" id=\"ago36\">6hr 11min ago</i></td><td class=\"tabev1\">8.86 </td><td class=\"tabev2\">N  </td><td class=\"tabev1\">126.16 </td><td class=\"tabev2\">E  </td><td class=\"tabev3\">67</td><td class=\"tabev5\" id=\"magtyp36\">mb</td><td class=\"tabev2\">4.6</td><td class=\"tb_region\" id=\"reg36\"> MINDANAO, PHILIPPINES</td><td class=\"comment updatetimeno\" id=\"upd36\" style=\"text-align:right;\">2020-07-06 11:11</td></tr>,\n",
       " <tr class=\"ligne2 normal\" id=\"874339\" onclick=\"go_details(event,874339);\"><td class=\"tabev0\"></td><td class=\"tabev0\"></td><td class=\"tabev0\"></td><td class=\"tabev6\"><b><i style=\"display:none;\">earthquake</i><a href=\"/Earthquake/earthquake.php?id=874339\">2020-07-06   10:12:54.8</a></b><i class=\"ago\" id=\"ago37\">6hr 21min ago</i></td><td class=\"tabev1\">15.89 </td><td class=\"tabev2\">S  </td><td class=\"tabev1\">173.83 </td><td class=\"tabev2\">W  </td><td class=\"tabev3\">121</td><td class=\"tabev5\" id=\"magtyp37\">mb</td><td class=\"tabev2\">4.8</td><td class=\"tb_region\" id=\"reg37\"> TONGA</td><td class=\"comment updatetimeno\" id=\"upd37\" style=\"text-align:right;\">2020-07-06 10:53</td></tr>,\n",
       " <tr class=\"ligne1 normal\" id=\"874385\" onclick=\"go_details(event,874385);\"><td class=\"tabev0\"></td><td class=\"tabev0\"></td><td class=\"tabev0\"></td><td class=\"tabev6\"><b><i style=\"display:none;\">earthquake</i><a href=\"/Earthquake/earthquake.php?id=874385\">2020-07-06   09:51:30.0</a></b><i class=\"ago\" id=\"ago38\">6hr 42min ago</i></td><td class=\"tabev1\">15.62 </td><td class=\"tabev2\">N  </td><td class=\"tabev1\">93.43 </td><td class=\"tabev2\">W  </td><td class=\"tabev3\">96</td><td class=\"tabev5\" id=\"magtyp38\"> M</td><td class=\"tabev2\">3.7</td><td class=\"tb_region\" id=\"reg38\"> OFFSHORE CHIAPAS, MEXICO</td><td class=\"comment updatetimeno\" id=\"upd38\" style=\"text-align:right;\">2020-07-06 14:05</td></tr>,\n",
       " <tr class=\"ligne2 normal\" id=\"874335\" onclick=\"go_details(event,874335);\"><td class=\"tabev0\"></td><td class=\"tabev0\"></td><td class=\"tabev0\"></td><td class=\"tabev6\"><b><i style=\"display:none;\">earthquake</i><a href=\"/Earthquake/earthquake.php?id=874335\">2020-07-06   09:45:48.0</a></b><i class=\"ago\" id=\"ago39\">6hr 48min ago</i></td><td class=\"tabev1\">2.59 </td><td class=\"tabev2\">S  </td><td class=\"tabev1\">129.64 </td><td class=\"tabev2\">E  </td><td class=\"tabev3\">10</td><td class=\"tabev5\" id=\"magtyp39\"> M</td><td class=\"tabev2\">3.2</td><td class=\"tb_region\" id=\"reg39\"> SERAM, INDONESIA</td><td class=\"comment updatetimeno\" id=\"upd39\" style=\"text-align:right;\">2020-07-06 10:07</td></tr>,\n",
       " <tr class=\"ligne1 normal\" id=\"874333\" onclick=\"go_details(event,874333);\"><td class=\"tabev0\"></td><td class=\"tabev0\"></td><td class=\"tabev0\"></td><td class=\"tabev6\"><b><i style=\"display:none;\">earthquake</i><a href=\"/Earthquake/earthquake.php?id=874333\">2020-07-06   09:25:40.8</a></b><i class=\"ago\" id=\"ago40\">7hr 08min ago</i></td><td class=\"tabev1\">19.20 </td><td class=\"tabev2\">N  </td><td class=\"tabev1\">155.41 </td><td class=\"tabev2\">W  </td><td class=\"tabev3\">32</td><td class=\"tabev5\" id=\"magtyp40\">Ml</td><td class=\"tabev2\">2.4</td><td class=\"tb_region\" id=\"reg40\"> ISLAND OF HAWAII, HAWAII</td><td class=\"comment updatetimeno\" id=\"upd40\" style=\"text-align:right;\">2020-07-06 09:31</td></tr>,\n",
       " <tr class=\"ligne2 normal\" id=\"874334\" onclick=\"go_details(event,874334);\"><td class=\"tabev0\"></td><td class=\"tabev0\"></td><td class=\"tabev0\"></td><td class=\"tabev6\"><b><i style=\"display:none;\">earthquake</i><a href=\"/Earthquake/earthquake.php?id=874334\">2020-07-06   09:24:52.5</a></b><i class=\"ago\" id=\"ago41\">7hr 09min ago</i></td><td class=\"tabev1\">36.06 </td><td class=\"tabev2\">N  </td><td class=\"tabev1\">17.03 </td><td class=\"tabev2\">E  </td><td class=\"tabev3\">10</td><td class=\"tabev5\" id=\"magtyp41\">mb</td><td class=\"tabev2\">4.4</td><td class=\"tb_region\" id=\"reg41\"> CENTRAL MEDITERRANEAN SEA</td><td class=\"comment updatetimeno\" id=\"upd41\" style=\"text-align:right;\">2020-07-06 14:10</td></tr>,\n",
       " <tr class=\"ligne1 normal\" id=\"874317\" onclick=\"go_details(event,874317);\"><td class=\"tabev0\"></td><td class=\"tabev0\"></td><td class=\"tabev0\"></td><td class=\"tabev6\"><b><i style=\"display:none;\">earthquake</i><a href=\"/Earthquake/earthquake.php?id=874317\">2020-07-06   09:20:38.7</a></b><i class=\"ago\" id=\"ago42\">7hr 13min ago</i></td><td class=\"tabev1\">38.18 </td><td class=\"tabev2\">N  </td><td class=\"tabev1\">117.83 </td><td class=\"tabev2\">W  </td><td class=\"tabev3\">10</td><td class=\"tabev5\" id=\"magtyp42\">ml</td><td class=\"tabev2\">2.3</td><td class=\"tb_region\" id=\"reg42\"> NEVADA</td><td class=\"comment updatetimeno\" id=\"upd42\" style=\"text-align:right;\">2020-07-06 09:25</td></tr>,\n",
       " <tr class=\"ligne2 normal\" id=\"874315\" onclick=\"go_details(event,874315);\"><td class=\"tabev0\"></td><td class=\"tabev0\"></td><td class=\"tabev0\"></td><td class=\"tabev6\"><b><i style=\"display:none;\">earthquake</i><a href=\"/Earthquake/earthquake.php?id=874315\">2020-07-06   09:13:00.8</a></b><i class=\"ago\" id=\"ago43\">7hr 21min ago</i></td><td class=\"tabev1\">38.16 </td><td class=\"tabev2\">N  </td><td class=\"tabev1\">117.96 </td><td class=\"tabev2\">W  </td><td class=\"tabev3\">13</td><td class=\"tabev5\" id=\"magtyp43\">ml</td><td class=\"tabev2\">2.0</td><td class=\"tb_region\" id=\"reg43\"> NEVADA</td><td class=\"comment updatetimeno\" id=\"upd43\" style=\"text-align:right;\">2020-07-06 09:22</td></tr>,\n",
       " <tr class=\"ligne1 normal\" id=\"874308\" onclick=\"go_details(event,874308);\"><td class=\"tabev0\"></td><td class=\"tabev0\"></td><td class=\"tabev0\"></td><td class=\"tabev6\"><b><i style=\"display:none;\">earthquake</i><a href=\"/Earthquake/earthquake.php?id=874308\">2020-07-06   09:11:49.4</a></b><i class=\"ago\" id=\"ago44\">7hr 22min ago</i></td><td class=\"tabev1\">38.21 </td><td class=\"tabev2\">N  </td><td class=\"tabev1\">117.88 </td><td class=\"tabev2\">W  </td><td class=\"tabev3\">7</td><td class=\"tabev5\" id=\"magtyp44\">ML</td><td class=\"tabev2\">2.5</td><td class=\"tb_region\" id=\"reg44\"> NEVADA</td><td class=\"comment updatetimeno\" id=\"upd44\" style=\"text-align:right;\">2020-07-06 12:17</td></tr>,\n",
       " <tr class=\"ligne2 normal\" id=\"874386\" onclick=\"go_details(event,874386);\"><td class=\"tabev0\"></td><td class=\"tabev0\"></td><td class=\"tabev0\"></td><td class=\"tabev6\"><b><i style=\"display:none;\">earthquake</i><a href=\"/Earthquake/earthquake.php?id=874386\">2020-07-06   08:57:45.0</a></b><i class=\"ago\" id=\"ago45\">7hr 36min ago</i></td><td class=\"tabev1\">14.62 </td><td class=\"tabev2\">N  </td><td class=\"tabev1\">92.59 </td><td class=\"tabev2\">W  </td><td class=\"tabev3\">76</td><td class=\"tabev5\" id=\"magtyp45\"> M</td><td class=\"tabev2\">3.5</td><td class=\"tb_region\" id=\"reg45\"> OFFSHORE CHIAPAS, MEXICO</td><td class=\"comment updatetimeno\" id=\"upd45\" style=\"text-align:right;\">2020-07-06 14:05</td></tr>,\n",
       " <tr class=\"ligne1 normal\" id=\"874307\" onclick=\"go_details(event,874307);\"><td class=\"tabev0\"></td><td class=\"tabev0\"></td><td class=\"tabev0\"></td><td class=\"tabev6\"><b><i style=\"display:none;\">earthquake</i><a href=\"/Earthquake/earthquake.php?id=874307\">2020-07-06   08:52:44.0</a></b><i class=\"ago\" id=\"ago46\">7hr 41min ago</i></td><td class=\"tabev1\">35.27 </td><td class=\"tabev2\">S  </td><td class=\"tabev1\">70.90 </td><td class=\"tabev2\">W  </td><td class=\"tabev3\">116</td><td class=\"tabev5\" id=\"magtyp46\">ML</td><td class=\"tabev2\">3.2</td><td class=\"tb_region\" id=\"reg46\"> MAULE, CHILE</td><td class=\"comment updatetimeno\" id=\"upd46\" style=\"text-align:right;\">2020-07-06 09:04</td></tr>,\n",
       " <tr class=\"ligne2 normal\" id=\"874304\" onclick=\"go_details(event,874304);\"><td class=\"tabev0\"></td><td class=\"tabev0\"></td><td class=\"tabev0\"></td><td class=\"tabev6\"><b><i style=\"display:none;\">earthquake</i><a href=\"/Earthquake/earthquake.php?id=874304\">2020-07-06   08:49:02.0</a></b><i class=\"ago\" id=\"ago47\">7hr 45min ago</i></td><td class=\"tabev1\">38.82 </td><td class=\"tabev2\">N  </td><td class=\"tabev1\">122.78 </td><td class=\"tabev2\">W  </td><td class=\"tabev3\">2</td><td class=\"tabev5\" id=\"magtyp47\">Md</td><td class=\"tabev2\">2.1</td><td class=\"tb_region\" id=\"reg47\"> NORTHERN CALIFORNIA</td><td class=\"comment updatetimeno\" id=\"upd47\" style=\"text-align:right;\">2020-07-06 08:50</td></tr>,\n",
       " <tr class=\"ligne1 normal\" id=\"874306\" onclick=\"go_details(event,874306);\"><td class=\"tabev0\"></td><td class=\"tabev0\"></td><td class=\"tabev0\"></td><td class=\"tabev6\"><b><i style=\"display:none;\">earthquake</i><a href=\"/Earthquake/earthquake.php?id=874306\">2020-07-06   08:44:26.7</a></b><i class=\"ago\" id=\"ago48\">7hr 49min ago</i></td><td class=\"tabev1\">36.99 </td><td class=\"tabev2\">N  </td><td class=\"tabev1\">33.00 </td><td class=\"tabev2\">W  </td><td class=\"tabev3\">10</td><td class=\"tabev5\" id=\"magtyp48\">mb</td><td class=\"tabev2\">4.8</td><td class=\"tb_region\" id=\"reg48\"> AZORES ISLANDS REGION</td><td class=\"comment updatetimeno\" id=\"upd48\" style=\"text-align:right;\">2020-07-06 14:09</td></tr>,\n",
       " <tr class=\"ligne2 normal\" id=\"874354\" onclick=\"go_details(event,874354);\"><td class=\"tabev0\"></td><td class=\"tabev0\"></td><td class=\"tabev0\"></td><td class=\"tabev6\"><b><i style=\"display:none;\">earthquake</i><a href=\"/Earthquake/earthquake.php?id=874354\">2020-07-06   08:42:22.0</a></b><i class=\"ago\" id=\"ago49\">7hr 51min ago</i></td><td class=\"tabev1\">15.40 </td><td class=\"tabev2\">N  </td><td class=\"tabev1\">94.68 </td><td class=\"tabev2\">W  </td><td class=\"tabev3\">16</td><td class=\"tabev5\" id=\"magtyp49\"> M</td><td class=\"tabev2\">3.9</td><td class=\"tb_region\" id=\"reg49\"> OFFSHORE OAXACA, MEXICO</td><td class=\"comment updatetimeno\" id=\"upd49\" style=\"text-align:right;\">2020-07-06 13:02</td></tr>]"
      ]
     },
     "execution_count": 11,
     "metadata": {},
     "output_type": "execute_result"
    }
   ],
   "source": [
    "# your code here\n",
    "\n",
    "html = requests.get(url).content\n",
    "soup = BeautifulSoup(html,'lxml')\n",
    "\n",
    "table = soup.find_all('tr', {'class':['ligne1 normal','ligne2 normal']})\n",
    "\n",
    "table_parsed = [row.text for row in table]\n",
    "\n",
    "table"
   ]
  },
  {
   "cell_type": "code",
   "execution_count": null,
   "metadata": {},
   "outputs": [],
   "source": []
  }
 ],
 "metadata": {
  "kernelspec": {
   "display_name": "Python [conda env:ironhack]",
   "language": "python",
   "name": "conda-env-ironhack-py"
  },
  "language_info": {
   "codemirror_mode": {
    "name": "ipython",
    "version": 3
   },
   "file_extension": ".py",
   "mimetype": "text/x-python",
   "name": "python",
   "nbconvert_exporter": "python",
   "pygments_lexer": "ipython3",
   "version": "3.7.7"
  }
 },
 "nbformat": 4,
 "nbformat_minor": 4
}
